{
 "cells": [
  {
   "cell_type": "code",
   "execution_count": 11,
   "metadata": {},
   "outputs": [
    {
     "name": "stdout",
     "output_type": "stream",
     "text": [
      "training accuracy= 1.0\n",
      "test accuracy= 0.9777777777777777\n",
      "Feature Importances:\n",
      "\talcohol              : 0.098148\n",
      "\tmalic_acid           : 0.078885\n",
      "\tash                  : 0.002183\n",
      "\talcalinity_of_ash    : 0.033373\n",
      "\tmagnesium            : 0.067494\n",
      "\ttotal_phenols        : 0.082676\n",
      "\tflavanoids           : 0.105425\n",
      "\tnonflavanoid_phenols : 0.001948\n",
      "\tproanthocyanins      : 0.069859\n",
      "\tcolor_intensity      : 0.131774\n",
      "\thue                  : 0.027180\n",
      "\tod280/od315_of_diluted_wines : 0.152421\n",
      "\tproline              : 0.148633\n"
     ]
    }
   ],
   "source": [
    "#ワインをランダムフォレストで分類\n",
    "from sklearn.ensemble import RandomForestClassifier\n",
    "from sklearn.model_selection import train_test_split\n",
    "from sklearn.metrics import accuracy_score\n",
    "from sklearn import tree\n",
    "import pydotplus as pdp\n",
    "import numpy as np\n",
    "import pandas as pd\n",
    "import matplotlib.pyplot as plt\n",
    "import matplotlib.image as mpimg\n",
    "import seaborn as sns \n",
    "import warnings\n",
    "warnings.filterwarnings('ignore')\n",
    "\n",
    "#ワインデータセットの読み込み\n",
    "from sklearn.datasets import load_wine\n",
    "data_wine = load_wine()\n",
    "\n",
    "#データの加工\n",
    "y_all = pd.DataFrame(data_wine[\"target\"],columns=[\"target\"])\n",
    "y_all = y_all.replace({0:'class_0', 1:'class_1', 2:'class_2'})\n",
    "X_all = pd.DataFrame(data_wine[\"data\"],columns=data_wine[\"feature_names\"])\n",
    "\n",
    "#特徴量の統計値\n",
    "X_all.describe()\n",
    "\n",
    "#データの分割\n",
    "#training:test=0.75:0.25\n",
    "X_train,X_test,y_train,y_test=train_test_split(data_wine.data,data_wine.target)\n",
    "\n",
    "#ランダムフォレスト\n",
    "def RFC():\n",
    "    clf=RandomForestClassifier() #インスタンス生成\n",
    "    clf.fit(X_train,y_train)\n",
    "    y_train_predict=clf.predict(X_train)\n",
    "    y_test_predict=clf.predict(X_test)\n",
    "    #訓練精度、テスト精度を算出（正解率）\n",
    "    print(\"training accuracy=\",accuracy_score(y_train,y_train_predict))\n",
    "    print(\"test accuracy=\",accuracy_score(y_test,y_test_predict))\n",
    "    #特徴量の重要度を算出\n",
    "    fti = clf.feature_importances_   \n",
    "    print('Feature Importances:')\n",
    "    for i, feat in enumerate(data_wine['feature_names']):\n",
    "        print('\\t{0:20s} : {1:>.6f}'.format(feat, fti[i]))\n",
    "    \n",
    "    #ランダムフォレストの可視化\n",
    "    estimator = clf.estimators_[0]\n",
    "    filename = \"./RandomeForest.png\"\n",
    "    use_feature_index = [i for i in range(13)] #特徴量は13種類\n",
    "    features = np.array(data_wine.feature_names)[use_feature_index]\n",
    "    dot_data = tree.export_graphviz(\n",
    "                estimator,\n",
    "                out_file=None,\n",
    "                filled=True,\n",
    "                rounded=True,\n",
    "                feature_names=features,\n",
    "                class_names=data_wine.target_names,\n",
    "                special_characters=True\n",
    "                )\n",
    "    graph = pdp.graph_from_dot_data(dot_data)\n",
    "    graph.progs = {'dot': u\"C:\\\\Program Files\\\\Graphviz\\\\bin\\\\dot.exe\"}\n",
    "    graph.write_png(filename)\n",
    "\n",
    "RFC()"
   ]
  },
  {
   "cell_type": "code",
   "execution_count": null,
   "metadata": {},
   "outputs": [],
   "source": []
  }
 ],
 "metadata": {
  "kernelspec": {
   "display_name": "Python 3",
   "language": "python",
   "name": "python3"
  },
  "language_info": {
   "codemirror_mode": {
    "name": "ipython",
    "version": 3
   },
   "file_extension": ".py",
   "mimetype": "text/x-python",
   "name": "python",
   "nbconvert_exporter": "python",
   "pygments_lexer": "ipython3",
   "version": "3.7.4"
  }
 },
 "nbformat": 4,
 "nbformat_minor": 2
}
